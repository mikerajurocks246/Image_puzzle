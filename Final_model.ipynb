{
 "cells": [
  {
   "cell_type": "code",
   "execution_count": 4,
   "metadata": {},
   "outputs": [],
   "source": [
    "import pandas as pd\n",
    "import numpy as np\n",
    "import cv2\n",
    "import csv\n",
    "from scipy.stats import pearsonr\n",
    "from random import randint\n",
    "from copy import deepcopy"
   ]
  },
  {
   "cell_type": "code",
   "execution_count": 5,
   "metadata": {},
   "outputs": [],
   "source": [
    "train_faces_csv = r\"C:\\Users\\ABHINAV\\Downloads\\mlware23\\dataset\\train\\train_faces.csv\"\n",
    "train_landmarks_csv = r\"C:\\Users\\ABHINAV\\Downloads\\mlware23\\dataset\\train\\train_landmarks.csv\"\n",
    "train_faces = r\"C:\\Users\\ABHINAV\\Downloads\\mlware23\\dataset\\train\\faces\"\n",
    "train_landamrks = r\"C:\\Users\\ABHINAV\\Downloads\\mlware23\\dataset\\train\\landmarks\"\n",
    "sample_pred = r\"C:\\Users\\ABHINAV\\Downloads\\mlware23\\dataset\\sample_prediction.csv\"\n",
    "test_img = r\"C:\\Users\\ABHINAV\\Downloads\\mlware23\\dataset\\test\\test_img\""
   ]
  },
  {
   "cell_type": "code",
   "execution_count": 6,
   "metadata": {},
   "outputs": [
    {
     "name": "stdout",
     "output_type": "stream",
     "text": [
      "xWVL9VlQPD.jpg\n",
      "C:\\Users\\ABHINAV\\Downloads\\mlware23\\dataset\\test\\test_img\\xWVL9VlQPD.jpg\n",
      "(300, 300, 3)\n"
     ]
    },
    {
     "data": {
      "text/plain": [
       "-1"
      ]
     },
     "execution_count": 6,
     "metadata": {},
     "output_type": "execute_result"
    }
   ],
   "source": [
    "df = pd.read_csv(sample_pred)\n",
    "img_name = df.iloc[0][0]\n",
    "print(img_name)\n",
    "img_path = test_img + chr(92) + img_name\n",
    "print(img_path)\n",
    "img = cv2.imread(img_path)\n",
    "print(img.shape)\n",
    "cv2.imshow(\"img\", img)\n",
    "cv2.waitKey(0)"
   ]
  },
  {
   "attachments": {},
   "cell_type": "markdown",
   "metadata": {},
   "source": [
    "Function to obtain corners (top left and bottom right) of individual tiles of the image"
   ]
  },
  {
   "cell_type": "code",
   "execution_count": 7,
   "metadata": {},
   "outputs": [],
   "source": [
    "def get_corners(img):\n",
    "    keys = []\n",
    "    values = []\n",
    "    for i in range(6):\n",
    "        for j in range(6):\n",
    "            keys.append(tuple([i,j]))\n",
    "            x1 = (50*i)\n",
    "            y1 = (50*j)\n",
    "            x2 = (50*(i+1))\n",
    "            y2 = (50*(j+1))\n",
    "            if i == 0:\n",
    "                x1 = 0\n",
    "            if j == 0:\n",
    "                y1 = 0\n",
    "            values.append([[x1,y1],[x2,y2]])\n",
    "    return dict(zip(keys, values))"
   ]
  },
  {
   "cell_type": "code",
   "execution_count": 8,
   "metadata": {},
   "outputs": [
    {
     "name": "stdout",
     "output_type": "stream",
     "text": [
      "{(0, 0): [[0, 0], [50, 50]], (0, 1): [[0, 50], [50, 100]], (0, 2): [[0, 100], [50, 150]], (0, 3): [[0, 150], [50, 200]], (0, 4): [[0, 200], [50, 250]], (0, 5): [[0, 250], [50, 300]], (1, 0): [[50, 0], [100, 50]], (1, 1): [[50, 50], [100, 100]], (1, 2): [[50, 100], [100, 150]], (1, 3): [[50, 150], [100, 200]], (1, 4): [[50, 200], [100, 250]], (1, 5): [[50, 250], [100, 300]], (2, 0): [[100, 0], [150, 50]], (2, 1): [[100, 50], [150, 100]], (2, 2): [[100, 100], [150, 150]], (2, 3): [[100, 150], [150, 200]], (2, 4): [[100, 200], [150, 250]], (2, 5): [[100, 250], [150, 300]], (3, 0): [[150, 0], [200, 50]], (3, 1): [[150, 50], [200, 100]], (3, 2): [[150, 100], [200, 150]], (3, 3): [[150, 150], [200, 200]], (3, 4): [[150, 200], [200, 250]], (3, 5): [[150, 250], [200, 300]], (4, 0): [[200, 0], [250, 50]], (4, 1): [[200, 50], [250, 100]], (4, 2): [[200, 100], [250, 150]], (4, 3): [[200, 150], [250, 200]], (4, 4): [[200, 200], [250, 250]], (4, 5): [[200, 250], [250, 300]], (5, 0): [[250, 0], [300, 50]], (5, 1): [[250, 50], [300, 100]], (5, 2): [[250, 100], [300, 150]], (5, 3): [[250, 150], [300, 200]], (5, 4): [[250, 200], [300, 250]], (5, 5): [[250, 250], [300, 300]]}\n"
     ]
    }
   ],
   "source": [
    "dictionary = get_corners(img)\n",
    "print(dictionary)"
   ]
  },
  {
   "attachments": {},
   "cell_type": "markdown",
   "metadata": {},
   "source": [
    "test"
   ]
  },
  {
   "cell_type": "code",
   "execution_count": 9,
   "metadata": {},
   "outputs": [
    {
     "name": "stdout",
     "output_type": "stream",
     "text": [
      "[[0, 50], [50, 100]]\n",
      "50\n",
      "(50, 50, 3)\n"
     ]
    }
   ],
   "source": [
    "lis = dictionary[tuple([0, 1])]\n",
    "print(lis)\n",
    "print(lis[1][0])\n",
    "#crop = img[0:49, 49:99]\n",
    "crop = img[lis[0][0]:lis[1][0], lis[0][1]:lis[1][1]]\n",
    "cv2.imshow(\"img\", crop)\n",
    "cv2.waitKey(0)\n",
    "print(crop.shape)"
   ]
  },
  {
   "attachments": {},
   "cell_type": "markdown",
   "metadata": {},
   "source": [
    "Function to perform pixel invariant transpose on an image"
   ]
  },
  {
   "cell_type": "code",
   "execution_count": 10,
   "metadata": {},
   "outputs": [],
   "source": [
    "def img_transpose(img):\n",
    "    arr = np.zeros(img.shape)\n",
    "    for i in range(img.shape[0]):\n",
    "        for j in range(img.shape[1]):\n",
    "            arr[i][j] = img[j][i]\n",
    "    return arr.astype(int)"
   ]
  },
  {
   "attachments": {},
   "cell_type": "markdown",
   "metadata": {},
   "source": [
    "Function to obtain the top , bottom, left and right edges of a tile, returns a dictionary"
   ]
  },
  {
   "cell_type": "code",
   "execution_count": 11,
   "metadata": {},
   "outputs": [],
   "source": [
    "def get_edge_vector(img, dictionary):\n",
    "    keys = []\n",
    "    values = []\n",
    "\n",
    "    for i in range(6):\n",
    "        for j in range(6):\n",
    "            keys.append(tuple([i, j]))\n",
    "            lis = dictionary[tuple([i, j])]\n",
    "            crop = img[lis[0][0]:lis[1][0], lis[0][1]: lis[1][1]]\n",
    "            #print(crop.shape)\n",
    "            crop_t = img_transpose(crop)\n",
    "            top = crop[0]\n",
    "            bottom = crop[-1]\n",
    "            left = crop_t[0]\n",
    "            right = crop_t[-1]\n",
    "            values.append([top, bottom, left, right])\n",
    "    return(dict(zip(keys, values)))\n"
   ]
  },
  {
   "attachments": {},
   "cell_type": "markdown",
   "metadata": {},
   "source": [
    "Function for finding euclidean distance between two edges fo tiles"
   ]
  },
  {
   "cell_type": "code",
   "execution_count": 12,
   "metadata": {},
   "outputs": [],
   "source": [
    "def edge_dist(e1, e2):\n",
    "    dist = 0\n",
    "    for i in range(e1.shape[0]):\n",
    "        d = (((e1[i][0]-e2[i][0])**2)+((e1[i][1]-e2[i][1])**2)+((e1[i][2]-e2[i][2])**2))**0.5\n",
    "        dist = dist+d\n",
    "        d = 0\n",
    "    return int(dist/50)"
   ]
  },
  {
   "attachments": {},
   "cell_type": "markdown",
   "metadata": {},
   "source": [
    "Function for finding pearson correlation between two edges of the tiles"
   ]
  },
  {
   "cell_type": "code",
   "execution_count": 13,
   "metadata": {},
   "outputs": [],
   "source": [
    "def pearson_line(e1, e2):\n",
    "    ch_r1 = []\n",
    "    ch_g1 = []\n",
    "    ch_b1 = []\n",
    "    ch_r2 = []\n",
    "    ch_b2 = []\n",
    "    ch_g2 = []\n",
    "    for i in range(50):\n",
    "        ch_r1.append(e1[i][0])\n",
    "        ch_g1.append(e1[i][1])\n",
    "        ch_b1.append(e1[i][2])\n",
    "        ch_r2.append(e2[i][0])\n",
    "        ch_g2.append(e2[i][1])\n",
    "        ch_b2.append(e2[i][2])\n",
    "    corr_r, _ = pearsonr(ch_r1, ch_r2)\n",
    "    corr_b, _ = pearsonr(ch_b1, ch_b2)\n",
    "    corr_g, _ = pearsonr(ch_g1, ch_g2)\n",
    "    sum = corr_r+corr_g+corr_b\n",
    "    return sum"
   ]
  },
  {
   "cell_type": "code",
   "execution_count": 14,
   "metadata": {},
   "outputs": [],
   "source": [
    "edge_dict = get_edge_vector(img, dictionary)\n",
    "#print(edge_dist(edge_dict[(0, 0)][0], edge_dict[(0, 0)][0]))"
   ]
  },
  {
   "attachments": {},
   "cell_type": "markdown",
   "metadata": {},
   "source": [
    "Euclediean distance based nearest tile detection"
   ]
  },
  {
   "cell_type": "code",
   "execution_count": 12,
   "metadata": {},
   "outputs": [
    {
     "data": {
      "text/plain": [
       "'comb = []\\nfor i in range(6):\\n    for j in range(6):\\n        comb.append((i, j))\\n#print(comb)\\n#print(edge_dict)\\ndef get_positions(edge_dict, comb):\\n    keys = []\\n    values = []\\n    for item in comb:\\n        keys.append(item)\\n        closest_ij = []\\n        min_top = 10000000\\n        min_bottom = 10000000\\n        min_left = 10000000\\n        min_right = 10000000\\n        top_ij = ()\\n        bottom_ij = ()\\n        left_ij = ()\\n        right_ij = ()\\n        for i in range(6):\\n            for j in range(6):\\n            \\n                top1 = edge_dict[item][0]\\n                bottom1 = edge_dict[item][1]\\n                left1 = edge_dict[item][2]\\n                right1 = edge_dict[item][3]\\n                if item !=(i, j):\\n                    top2 = edge_dict[(i, j)][0]\\n                    bottom2 = edge_dict[(i, j)][1]\\n                    left2 = edge_dict[(i, j)][2]\\n                    right2 = edge_dict[(i, j)][3]\\n                    if edge_dist(top1, bottom2)<min_top:\\n                        top_ij = (i, j)\\n                        min_top = edge_dist(top1, bottom2)\\n                    if edge_dist(bottom1, top2)<min_bottom:\\n                        bottom_ij = (i, j)\\n                        min_bottom = edge_dist(bottom1, top2)\\n                    if edge_dist(left1, right2)<min_left:\\n                        left_ij = (i, j)\\n                        min_left = edge_dist(left1, right2)\\n                    if edge_dist(right1, left2)<min_right:\\n                        right_ij = (i, j)\\n                        min_right = edge_dist(right1, left2)\\n        #closest_ij.append()\\n        values.append([top_ij, bottom_ij, left_ij, right_ij])\\n    return dict(zip(keys, values))\\n'"
      ]
     },
     "execution_count": 12,
     "metadata": {},
     "output_type": "execute_result"
    }
   ],
   "source": [
    "\"\"\"comb = []\n",
    "for i in range(6):\n",
    "    for j in range(6):\n",
    "        comb.append((i, j))\n",
    "#print(comb)\n",
    "#print(edge_dict)\n",
    "def get_positions(edge_dict, comb):\n",
    "    keys = []\n",
    "    values = []\n",
    "    for item in comb:\n",
    "        keys.append(item)\n",
    "        closest_ij = []\n",
    "        min_top = 10000000\n",
    "        min_bottom = 10000000\n",
    "        min_left = 10000000\n",
    "        min_right = 10000000\n",
    "        top_ij = ()\n",
    "        bottom_ij = ()\n",
    "        left_ij = ()\n",
    "        right_ij = ()\n",
    "        for i in range(6):\n",
    "            for j in range(6):\n",
    "            \n",
    "                top1 = edge_dict[item][0]\n",
    "                bottom1 = edge_dict[item][1]\n",
    "                left1 = edge_dict[item][2]\n",
    "                right1 = edge_dict[item][3]\n",
    "                if item !=(i, j):\n",
    "                    top2 = edge_dict[(i, j)][0]\n",
    "                    bottom2 = edge_dict[(i, j)][1]\n",
    "                    left2 = edge_dict[(i, j)][2]\n",
    "                    right2 = edge_dict[(i, j)][3]\n",
    "                    if edge_dist(top1, bottom2)<min_top:\n",
    "                        top_ij = (i, j)\n",
    "                        min_top = edge_dist(top1, bottom2)\n",
    "                    if edge_dist(bottom1, top2)<min_bottom:\n",
    "                        bottom_ij = (i, j)\n",
    "                        min_bottom = edge_dist(bottom1, top2)\n",
    "                    if edge_dist(left1, right2)<min_left:\n",
    "                        left_ij = (i, j)\n",
    "                        min_left = edge_dist(left1, right2)\n",
    "                    if edge_dist(right1, left2)<min_right:\n",
    "                        right_ij = (i, j)\n",
    "                        min_right = edge_dist(right1, left2)\n",
    "        #closest_ij.append()\n",
    "        values.append([top_ij, bottom_ij, left_ij, right_ij])\n",
    "    return dict(zip(keys, values))\n",
    "\"\"\"\n"
   ]
  },
  {
   "attachments": {},
   "cell_type": "markdown",
   "metadata": {},
   "source": [
    "Pearson correlation based nearest tile detection "
   ]
  },
  {
   "cell_type": "code",
   "execution_count": 15,
   "metadata": {},
   "outputs": [],
   "source": [
    "comb = []\n",
    "for i in range(6):\n",
    "    for j in range(6):\n",
    "        comb.append((i, j))\n",
    "def get_positions1(edge_dict, comb):\n",
    "    keys = []\n",
    "    values = []\n",
    "    for item in comb:\n",
    "        keys.append(item)\n",
    "        closest_ij = []\n",
    "        min_top = -4\n",
    "        min_bottom = -4\n",
    "        min_left = -4\n",
    "        min_right = -4\n",
    "        top_ij = ()\n",
    "        bottom_ij = ()\n",
    "        left_ij = ()\n",
    "        right_ij = ()\n",
    "        for i in range(6):\n",
    "            for j in range(6):\n",
    "            \n",
    "                top1 = edge_dict[item][0]\n",
    "                bottom1 = edge_dict[item][1]\n",
    "                left1 = edge_dict[item][2]\n",
    "                right1 = edge_dict[item][3]\n",
    "                if item !=(i, j):\n",
    "                    top2 = edge_dict[(i, j)][0]\n",
    "                    bottom2 = edge_dict[(i, j)][1]\n",
    "                    left2 = edge_dict[(i, j)][2]\n",
    "                    right2 = edge_dict[(i, j)][3]\n",
    "                    if pearson_line(top1, bottom2)>min_top:\n",
    "                        top_ij = (i, j)\n",
    "                        min_top = pearson_line(top1, bottom2)\n",
    "                    if pearson_line(bottom1, top2)>min_bottom:\n",
    "                        bottom_ij = (i, j)\n",
    "                        min_bottom = pearson_line(bottom1, top2)\n",
    "                    if pearson_line(left1, right2)>min_left:\n",
    "                        left_ij = (i, j)\n",
    "                        min_left = pearson_line(left1, right2)\n",
    "                    if pearson_line(right1, left2)>min_right:\n",
    "                        right_ij = (i, j)\n",
    "                        min_right = pearson_line(right1, left2)\n",
    "        #closest_ij.append()\n",
    "        lis = [top_ij, bottom_ij, left_ij, right_ij]\n",
    "        for i in range(len(lis)):\n",
    "            if lis[i] == ():\n",
    "                lis[i] = (-1, -1)\n",
    "        values.append(lis)\n",
    "    return dict(zip(keys, values))\n",
    "\n",
    "        "
   ]
  },
  {
   "cell_type": "code",
   "execution_count": 24,
   "metadata": {},
   "outputs": [],
   "source": [
    "def pixel_diff(p1, p2):\n",
    "    diff = 0\n",
    "    treshold = 10\n",
    "    for i in range(p1.shape[0]):\n",
    "        diff += abs(int(p1[i] - int(p2[i])))\n",
    "    return False if diff < treshold else True\n",
    "\n",
    "def side_difference(e1, e2):\n",
    "    difference = 0\n",
    "    for i in range(e1.shape[0]):\n",
    "        difference += 1 if pixel_diff(e1[i], e2[i]) else 0\n",
    "    return difference"
   ]
  },
  {
   "attachments": {},
   "cell_type": "markdown",
   "metadata": {},
   "source": [
    "pixel distance method"
   ]
  },
  {
   "cell_type": "code",
   "execution_count": 25,
   "metadata": {},
   "outputs": [],
   "source": [
    "def get_positions2(edge_dict, comb):\n",
    "    keys = []\n",
    "    values = []\n",
    "    for item in comb:\n",
    "            keys.append(item)\n",
    "            closest_ij = []\n",
    "            min_top = -4\n",
    "            min_bottom = -4\n",
    "            min_left = -4\n",
    "            min_right = -4\n",
    "            top_ij = ()\n",
    "            bottom_ij = ()\n",
    "            left_ij = ()\n",
    "            right_ij = ()\n",
    "            for i in range(6):\n",
    "                for j in range(6):\n",
    "            \n",
    "                    top1 = edge_dict[item][0]\n",
    "                    bottom1 = edge_dict[item][1]\n",
    "                    left1 = edge_dict[item][2]\n",
    "                    right1 = edge_dict[item][3]\n",
    "                    if item !=(i, j):\n",
    "                        top2 = edge_dict[(i, j)][0]\n",
    "                        bottom2 = edge_dict[(i, j)][1]\n",
    "                        left2 = edge_dict[(i, j)][2]\n",
    "                        right2 = edge_dict[(i, j)][3]\n",
    "                        if side_difference(top1, bottom2)>min_top:\n",
    "                            top_ij = (i, j)\n",
    "                            min_top = side_difference(top1, bottom2)\n",
    "                        if side_difference(bottom1, top2)>min_bottom:\n",
    "                            bottom_ij = (i, j)\n",
    "                            min_bottom = side_difference(bottom1, top2)\n",
    "                        if side_difference(left1, right2)>min_left:\n",
    "                            left_ij = (i, j)\n",
    "                            min_left = side_difference(left1, right2)\n",
    "                        if side_difference(right1, left2)>min_right:\n",
    "                            right_ij = (i, j)\n",
    "                            min_right = side_difference(right1, left2)\n",
    "            #closest_ij.append()\n",
    "            lis = [top_ij, bottom_ij, left_ij, right_ij]\n",
    "            for i in range(len(lis)):\n",
    "                if lis[i] == ():\n",
    "                    lis[i] = (-1, -1)\n",
    "            values.append(lis)\n",
    "    return dict(zip(keys, values))\n",
    "            \n",
    "            "
   ]
  },
  {
   "cell_type": "code",
   "execution_count": 26,
   "metadata": {},
   "outputs": [],
   "source": [
    "comb = []\n",
    "for i in range(6):\n",
    "    for j in range(6):\n",
    "        comb.append((i, j))\n",
    "#closest_dict = get_positions(edge_dict, comb)\n",
    "closest_dict1 = get_positions1(edge_dict, comb)\n",
    "#print((closest_dict[(0, 0)]))\n",
    "closest_dict2 = get_positions2(edge_dict, comb)"
   ]
  },
  {
   "cell_type": "code",
   "execution_count": 27,
   "metadata": {},
   "outputs": [
    {
     "name": "stdout",
     "output_type": "stream",
     "text": [
      "{(0, 0): [(1, 4), (4, 2), (2, 2), (0, 1)], (0, 1): [(3, 3), (3, 1), (0, 0), (2, 5)], (0, 2): [(3, 2), (2, 3), (1, 4), (4, 4)], (0, 3): [(2, 3), (2, 2), (5, 0), (0, 0)], (0, 4): [(2, 4), (4, 5), (1, 5), (1, 5)], (0, 5): [(1, 2), (5, 0), (2, 4), (5, 3)], (1, 0): [(2, 3), (1, 1), (0, 3), (2, 5)], (1, 1): [(2, 2), (3, 1), (5, 4), (3, 1)], (1, 2): [(5, 2), (2, 2), (5, 5), (1, 4)], (1, 3): [(1, 4), (1, 2), (3, 3), (4, 1)], (1, 4): [(4, 4), (0, 0), (1, 2), (0, 2)], (1, 5): [(1, 4), (2, 3), (1, 0), (0, 4)], (2, 0): [(3, 1), (3, 5), (4, 3), (2, 1)], (2, 1): [(3, 5), (2, 3), (0, 0), (5, 4)], (2, 2): [(1, 2), (3, 2), (5, 0), (0, 0)], (2, 3): [(1, 4), (5, 2), (3, 3), (4, 0)], (2, 4): [(1, 4), (4, 4), (3, 2), (0, 5)], (2, 5): [(1, 3), (4, 3), (0, 1), (4, 0)], (3, 0): [(3, 2), (4, 0), (4, 1), (5, 4)], (3, 1): [(5, 3), (2, 0), (3, 2), (1, 2)], (3, 2): [(2, 2), (0, 2), (5, 3), (2, 4)], (3, 3): [(3, 5), (0, 1), (5, 5), (4, 0)], (3, 4): [(5, 1), (2, 2), (5, 2), (3, 2)], (3, 5): [(2, 0), (3, 3), (2, 4), (5, 0)], (4, 0): [(3, 0), (2, 5), (3, 3), (5, 4)], (4, 1): [(1, 2), (0, 1), (3, 3), (3, 0)], (4, 2): [(0, 0), (3, 3), (4, 0), (5, 5)], (4, 3): [(2, 5), (5, 1), (1, 3), (4, 2)], (4, 4): [(2, 4), (5, 4), (0, 2), (5, 0)], (4, 5): [(4, 3), (4, 2), (1, 3), (3, 5)], (5, 0): [(0, 5), (5, 4), (4, 4), (5, 1)], (5, 1): [(5, 3), (3, 4), (5, 0), (0, 2)], (5, 2): [(2, 3), (1, 2), (0, 2), (3, 4)], (5, 3): [(4, 3), (5, 1), (2, 4), (3, 2)], (5, 4): [(4, 4), (1, 4), (3, 3), (4, 0)], (5, 5): [(4, 4), (4, 1), (5, 4), (5, 4)]}\n"
     ]
    }
   ],
   "source": [
    "print(closest_dict1)"
   ]
  },
  {
   "cell_type": "code",
   "execution_count": 28,
   "metadata": {},
   "outputs": [
    {
     "name": "stdout",
     "output_type": "stream",
     "text": [
      "{(0, 0): [(0, 1), (0, 1), (0, 2), (0, 1)], (0, 1): [(0, 0), (0, 0), (0, 0), (0, 2)], (0, 2): [(0, 0), (0, 1), (0, 1), (0, 0)], (0, 3): [(0, 0), (0, 0), (0, 0), (0, 0)], (0, 4): [(0, 0), (0, 0), (0, 0), (0, 0)], (0, 5): [(0, 0), (0, 1), (0, 0), (0, 0)], (1, 0): [(0, 0), (0, 0), (0, 0), (0, 0)], (1, 1): [(0, 0), (0, 0), (0, 1), (0, 1)], (1, 2): [(0, 0), (0, 0), (0, 0), (0, 0)], (1, 3): [(0, 1), (0, 0), (0, 0), (0, 0)], (1, 4): [(0, 0), (0, 1), (0, 0), (0, 1)], (1, 5): [(0, 0), (0, 0), (0, 0), (0, 0)], (2, 0): [(0, 0), (0, 0), (0, 0), (0, 0)], (2, 1): [(0, 0), (0, 0), (0, 0), (0, 0)], (2, 2): [(0, 0), (0, 1), (0, 2), (0, 2)], (2, 3): [(0, 0), (0, 0), (0, 0), (0, 0)], (2, 4): [(0, 0), (0, 0), (0, 0), (0, 0)], (2, 5): [(0, 0), (0, 0), (0, 0), (0, 1)], (3, 0): [(0, 0), (0, 1), (0, 1), (0, 1)], (3, 1): [(0, 0), (0, 0), (0, 1), (0, 0)], (3, 2): [(0, 0), (0, 0), (0, 0), (0, 1)], (3, 3): [(0, 1), (0, 2), (0, 0), (0, 1)], (3, 4): [(0, 0), (0, 0), (0, 0), (0, 0)], (3, 5): [(0, 0), (0, 0), (0, 0), (0, 0)], (4, 0): [(0, 0), (0, 0), (0, 0), (0, 0)], (4, 1): [(0, 0), (0, 0), (0, 0), (0, 0)], (4, 2): [(0, 0), (0, 0), (0, 0), (0, 0)], (4, 3): [(0, 1), (0, 0), (0, 0), (0, 1)], (4, 4): [(0, 0), (0, 0), (0, 0), (0, 0)], (4, 5): [(0, 0), (0, 0), (0, 0), (0, 0)], (5, 0): [(0, 0), (0, 0), (0, 0), (0, 0)], (5, 1): [(0, 0), (0, 0), (0, 0), (0, 0)], (5, 2): [(0, 0), (0, 0), (0, 0), (0, 0)], (5, 3): [(0, 0), (0, 0), (0, 0), (0, 0)], (5, 4): [(0, 0), (0, 1), (0, 1), (0, 1)], (5, 5): [(0, 1), (0, 0), (0, 0), (0, 1)]}\n"
     ]
    }
   ],
   "source": [
    "print(closest_dict2)"
   ]
  },
  {
   "attachments": {},
   "cell_type": "markdown",
   "metadata": {},
   "source": [
    "Function to obtain neighbouring tiles, if the value corresponding to a position is (-1, -1) then the tile in that position is uncertain/ a corner tile"
   ]
  },
  {
   "cell_type": "code",
   "execution_count": 31,
   "metadata": {},
   "outputs": [],
   "source": [
    "def check_dict(closest_dict, comb):\n",
    "    d = closest_dict\n",
    "    keys = comb\n",
    "    values = []\n",
    "    for item in keys:\n",
    "        final_neighbour = []\n",
    "        neighbours = closest_dict[item]\n",
    "        neighbour_top = neighbours[0]\n",
    "        neighbour_bottom = neighbours[1]\n",
    "        neighbour_left = neighbours[2]\n",
    "        neighbour_right = neighbours[3]\n",
    "\n",
    "        if neighbour_top != (-1,-1):\n",
    "            if closest_dict[neighbour_top][1] == item:\n",
    "                final_neighbour.append(neighbour_top)\n",
    "            else:\n",
    "                final_neighbour.append((-1,-1))\n",
    "        else:\n",
    "            final_neighbour.append((-1,-1))\n",
    "\n",
    "        if neighbour_bottom != (-1,-1):\n",
    "            if closest_dict[neighbour_bottom][0] == item:\n",
    "                final_neighbour.append(neighbour_bottom)\n",
    "            else:\n",
    "                final_neighbour.append((-1,-1))\n",
    "        else:\n",
    "            final_neighbour.append((-1,-1))\n",
    "        \n",
    "        if neighbour_left != (-1,-1):\n",
    "            if closest_dict[neighbour_left][3] == item:\n",
    "                final_neighbour.append(neighbour_left)\n",
    "            else:\n",
    "                final_neighbour.append((-1,-1))\n",
    "        else:\n",
    "            final_neighbour.append((-1,-1))\n",
    "        \n",
    "        if neighbour_right != (-1,-1):\n",
    "            if closest_dict[neighbour_right][2] == item:\n",
    "                final_neighbour.append(neighbour_right)\n",
    "            else:\n",
    "                final_neighbour.append((-1,-1))\n",
    "        else:\n",
    "            final_neighbour.append((-1,-1))\n",
    "        \n",
    "        values.append(final_neighbour)\n",
    "    return(dict(zip(keys, values)))\n",
    "\n"
   ]
  },
  {
   "cell_type": "code",
   "execution_count": 32,
   "metadata": {},
   "outputs": [
    {
     "name": "stdout",
     "output_type": "stream",
     "text": [
      "{(0, 0): [(1, 4), (4, 2), (2, 2), (0, 1)], (0, 1): [(3, 3), (-1, -1), (0, 0), (2, 5)], (0, 2): [(3, 2), (-1, -1), (1, 4), (4, 4)], (0, 3): [(-1, -1), (-1, -1), (-1, -1), (-1, -1)], (0, 4): [(-1, -1), (-1, -1), (1, 5), (-1, -1)], (0, 5): [(-1, -1), (5, 0), (2, 4), (-1, -1)], (1, 0): [(-1, -1), (-1, -1), (-1, -1), (-1, -1)], (1, 1): [(-1, -1), (-1, -1), (-1, -1), (-1, -1)], (1, 2): [(5, 2), (2, 2), (-1, -1), (1, 4)], (1, 3): [(-1, -1), (-1, -1), (-1, -1), (-1, -1)], (1, 4): [(-1, -1), (0, 0), (1, 2), (0, 2)], (1, 5): [(-1, -1), (-1, -1), (-1, -1), (0, 4)], (2, 0): [(3, 1), (3, 5), (-1, -1), (-1, -1)], (2, 1): [(-1, -1), (-1, -1), (-1, -1), (-1, -1)], (2, 2): [(1, 2), (3, 2), (-1, -1), (0, 0)], (2, 3): [(-1, -1), (5, 2), (-1, -1), (-1, -1)], (2, 4): [(-1, -1), (4, 4), (3, 2), (0, 5)], (2, 5): [(-1, -1), (4, 3), (0, 1), (-1, -1)], (3, 0): [(-1, -1), (4, 0), (4, 1), (-1, -1)], (3, 1): [(-1, -1), (2, 0), (-1, -1), (-1, -1)], (3, 2): [(2, 2), (0, 2), (5, 3), (2, 4)], (3, 3): [(3, 5), (0, 1), (-1, -1), (4, 0)], (3, 4): [(5, 1), (-1, -1), (5, 2), (-1, -1)], (3, 5): [(2, 0), (3, 3), (-1, -1), (-1, -1)], (4, 0): [(3, 0), (-1, -1), (3, 3), (-1, -1)], (4, 1): [(-1, -1), (-1, -1), (-1, -1), (3, 0)], (4, 2): [(0, 0), (-1, -1), (-1, -1), (-1, -1)], (4, 3): [(2, 5), (-1, -1), (-1, -1), (-1, -1)], (4, 4): [(2, 4), (5, 4), (0, 2), (5, 0)], (4, 5): [(-1, -1), (-1, -1), (-1, -1), (-1, -1)], (5, 0): [(0, 5), (-1, -1), (4, 4), (5, 1)], (5, 1): [(5, 3), (3, 4), (5, 0), (-1, -1)], (5, 2): [(2, 3), (1, 2), (-1, -1), (3, 4)], (5, 3): [(-1, -1), (5, 1), (-1, -1), (3, 2)], (5, 4): [(4, 4), (-1, -1), (-1, -1), (-1, -1)], (5, 5): [(-1, -1), (-1, -1), (-1, -1), (-1, -1)]}\n"
     ]
    }
   ],
   "source": [
    "final_dict = check_dict(closest_dict1, comb)\n",
    "print(final_dict)"
   ]
  },
  {
   "attachments": {},
   "cell_type": "markdown",
   "metadata": {},
   "source": [
    "check from here"
   ]
  },
  {
   "cell_type": "code",
   "execution_count": 35,
   "metadata": {},
   "outputs": [
    {
     "data": {
      "text/plain": [
       "'while len(not_exp)!=0:\\n    node = set_priority(in_matrix, not_exp)\\n    expand_node(node, dictionary, matrix, in_matrix, not_exp)\\n    print(1)'"
      ]
     },
     "execution_count": 35,
     "metadata": {},
     "output_type": "execute_result"
    }
   ],
   "source": [
    "def get_ij(node, matrix):\n",
    "    #id = [-5,-5]\n",
    "    for i in range(matrix.shape[0]):\n",
    "        for j in range(matrix.shape[1]):\n",
    "            if node[0]==matrix[i][j][0] and node[1]==matrix[i][j][1]:\n",
    "                id = [i, j]\n",
    "                return id\n",
    "                break\n",
    "    #return id\n",
    "\n",
    "def expand_node(node, dictionary ,matrix, in_matrix, not_exp):\n",
    "    values = dictionary[node]\n",
    "    id = get_ij(node, matrix)\n",
    "    #print(node)\n",
    "    #print(id)\n",
    "    #print(values)\n",
    "    x = id[0]\n",
    "    y = id[1]\n",
    "    if x!=-5 and y!=-5:\n",
    "        if values[0]!=(-1,-1):\n",
    "                matrix[x-1][y] = values[0]\n",
    "                if values[0] not in in_matrix:\n",
    "                    in_matrix.append(values[0])\n",
    "        if values[1]!=(-1,-1):\n",
    "                matrix[x+1][y] = values[1]\n",
    "                if values[1] not in in_matrix:\n",
    "                    in_matrix.append(values[1])\n",
    "        if values[2]!=(-1,-1):\n",
    "                matrix[x][y-1] = values[2]\n",
    "                if values[2] not in in_matrix:\n",
    "                    in_matrix.append(values[2])\n",
    "        if values[3]!=(-1,-1):\n",
    "                matrix[x][y+1] = values[3]\n",
    "                if values[3] not in in_matrix:\n",
    "                    in_matrix.append(values[3])\n",
    "        not_exp.remove(node)\n",
    "        print(\"expanded: \", node)\n",
    "    else:\n",
    "        not_exp.remove(node)\n",
    "        #unsure.append[node]\n",
    "\n",
    "def set_priority(in_matrix, not_exp):\n",
    "    x = ()\n",
    "    for node in not_exp:\n",
    "        if node in in_matrix:\n",
    "            x = node\n",
    "            break\n",
    "        \n",
    "    return x        \n",
    "\n",
    "\n",
    "\"\"\"while len(not_exp)!=0:\n",
    "    node = set_priority(in_matrix, not_exp)\n",
    "    expand_node(node, dictionary, matrix, in_matrix, not_exp)\n",
    "    print(1)\"\"\"\n"
   ]
  },
  {
   "cell_type": "code",
   "execution_count": null,
   "metadata": {},
   "outputs": [],
   "source": [
    "matrix = np.empty(shape=(100,100,2))\n",
    "matrix.fill(-2)\n",
    "\n",
    "not_exp = deepcopy(comb)\n",
    "\n",
    "start = comb[0]\n",
    "matrix[50][50] = start\n",
    "in_matrix = [start]\n",
    "#unsure = []\n",
    "expand_node(start, final_dict, matrix, in_matrix, not_exp)\n",
    "#print(len(not_exp))\n",
    "i = 1\n",
    "while len(not_exp)!=0:\n",
    "    node = set_priority(in_matrix, not_exp)\n",
    "    print(node, get_ij(node ,matrix))\n",
    "    if node == ():\n",
    "        break\n",
    "    print(in_matrix)\n",
    "    print(not_exp)\n",
    "    #print(node)\n",
    "    expand_node(node, final_dict, matrix, in_matrix, not_exp)\n",
    "    print(i)\n",
    "    i = i+1"
   ]
  },
  {
   "cell_type": "code",
   "execution_count": 20,
   "metadata": {},
   "outputs": [
    {
     "name": "stdout",
     "output_type": "stream",
     "text": [
      "[(0, 3), (1, 3), (2, 2)]\n",
      "[[5. 4.]\n",
      " [4. 0.]\n",
      " [3. 4.]\n",
      " [1. 1.]\n",
      " [2. 5.]\n",
      " [1. 5.]]\n"
     ]
    }
   ],
   "source": [
    "def find_start(matrix):\n",
    "    x = 0\n",
    "    y = 0\n",
    "    for i in range(matrix.shape[0]):\n",
    "        for j in range(matrix.shape[1]):\n",
    "            if matrix[i][j][0]!=-2 and matrix[i][j][1]!=-2:\n",
    "                x = i\n",
    "                y = j\n",
    "                return [x,y]\n",
    "                break\n",
    "\n",
    "\n",
    "def find_end(matrix):\n",
    "    x = 0\n",
    "    y = 0\n",
    "    for i in range(matrix.shape[0]):\n",
    "        for j in range(matrix.shape[1]):\n",
    "            if matrix[i][j][0]!=-2 and matrix[i][j][1]!=-2:\n",
    "                x = i\n",
    "                y = j\n",
    "    return [x,y]\n",
    "\n",
    "\n",
    "x = find_end(matrix)[0]\n",
    "y = find_end(matrix)[1]\n",
    "final_matrix = matrix[x-5:x+1,y-5:y+1]\n",
    "#print(final_matrix.shape)\n",
    "#print(final_matrix[0])\n",
    "#print(matrix[50][53])\n",
    "\n",
    "copy = deepcopy(comb)\n",
    "#print(copy)\n",
    "#not_present = []\n",
    "for i in range(final_matrix.shape[0]):\n",
    "    for j in range(final_matrix.shape[1]):\n",
    "        if (final_matrix[i][j][0], final_matrix[i][j][1]) in copy:\n",
    "            copy.remove((final_matrix[i][j][0], final_matrix[i][j][1]))\n",
    "print(copy)\n",
    "x = 0\n",
    "for i in range(final_matrix.shape[0]):\n",
    "    for j in range(final_matrix.shape[1]):\n",
    "        if final_matrix[i][j][0] < 0 and final_matrix[i][j][1] < 0:\n",
    "            final_matrix[i][j] = copy[x]\n",
    "            x = x+1\n",
    "print(final_matrix[5])"
   ]
  },
  {
   "cell_type": "code",
   "execution_count": 21,
   "metadata": {},
   "outputs": [
    {
     "name": "stdout",
     "output_type": "stream",
     "text": [
      "[4, 3]\n"
     ]
    }
   ],
   "source": [
    "print(get_ij((2,2), final_matrix))"
   ]
  },
  {
   "cell_type": "code",
   "execution_count": 22,
   "metadata": {},
   "outputs": [
    {
     "name": "stdout",
     "output_type": "stream",
     "text": [
      "[[0, 4], [0, 0], [4, 4], [1, 5], [1, 0], [1, 4], [3, 4], [5, 3], [0, 2], [1, 1], [5, 5], [2, 5], [2, 0], [0, 3], [4, 3], [4, 1], [2, 2], [0, 5], [2, 1], [4, 0], [2, 4], [3, 5], [1, 2], [1, 3], [5, 4], [3, 2], [4, 2], [5, 0], [3, 0], [3, 1], [4, 5], [2, 3], [5, 2], [0, 1], [3, 3], [5, 1]]\n",
      "[(0, 0), (0, 1), (0, 2), (0, 3), (0, 4), (0, 5), (1, 0), (1, 1), (1, 2), (1, 3), (1, 4), (1, 5), (2, 0), (2, 1), (2, 2), (2, 3), (2, 4), (2, 5), (3, 0), (3, 1), (3, 2), (3, 3), (3, 4), (3, 5), (4, 0), (4, 1), (4, 2), (4, 3), (4, 4), (4, 5), (5, 0), (5, 1), (5, 2), (5, 3), (5, 4), (5, 5)]\n"
     ]
    }
   ],
   "source": [
    "def fetch_positions(final_matrix, comb):\n",
    "    final_pos = []\n",
    "    for item in comb:\n",
    "        final_pos.append(get_ij(item, final_matrix))\n",
    "    return final_pos\n",
    "\n",
    "print(fetch_positions(final_matrix, comb))\n",
    "print(comb)            "
   ]
  }
 ],
 "metadata": {
  "kernelspec": {
   "display_name": "Python 3",
   "language": "python",
   "name": "python3"
  },
  "language_info": {
   "codemirror_mode": {
    "name": "ipython",
    "version": 3
   },
   "file_extension": ".py",
   "mimetype": "text/x-python",
   "name": "python",
   "nbconvert_exporter": "python",
   "pygments_lexer": "ipython3",
   "version": "3.10.10"
  },
  "orig_nbformat": 4,
  "vscode": {
   "interpreter": {
    "hash": "77dcf5160e701220027ec5af5974b8ee5098ab85e39dbfa96466c02b651f1813"
   }
  }
 },
 "nbformat": 4,
 "nbformat_minor": 2
}
